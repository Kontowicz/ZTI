{
 "cells": [
  {
   "cell_type": "markdown",
   "metadata": {},
   "source": [
    "# wczytywanie"
   ]
  },
  {
   "cell_type": "code",
   "execution_count": 1,
   "metadata": {},
   "outputs": [],
   "source": [
    "from parse import parse_task_1_2"
   ]
  },
  {
   "cell_type": "code",
   "execution_count": 2,
   "metadata": {},
   "outputs": [
    {
     "name": "stdout",
     "output_type": "stream",
     "text": [
      "Knowledge Services and Dotstaff is incredibly happy to be a part of this wonderful community, said Joe Bielawski, the president of Knowledge Services.\n"
     ]
    }
   ],
   "source": [
    "sent, sentences = parse_task_1_2('training/file_39.ttl', only_sentences=True)\n",
    "print(sent)"
   ]
  },
  {
   "cell_type": "markdown",
   "metadata": {},
   "source": [
    "# parsowanie"
   ]
  },
  {
   "cell_type": "code",
   "execution_count": 3,
   "metadata": {},
   "outputs": [],
   "source": [
    "from entities_recognition_tester import process_using_spacy\n",
    "import en_core_web_sm"
   ]
  },
  {
   "cell_type": "code",
   "execution_count": 4,
   "metadata": {},
   "outputs": [
    {
     "name": "stdout",
     "output_type": "stream",
     "text": [
      "[('Dotstaff', 'ORG'), ('Joe Bielawski', 'PERSON'), ('Knowledge Services', 'ORG')]\n"
     ]
    }
   ],
   "source": [
    "pary = process_using_spacy(sent, en_core = en_core_web_sm.load(), format_result=True)\n",
    "print(pary)"
   ]
  },
  {
   "cell_type": "markdown",
   "metadata": {},
   "source": [
    "# relacja"
   ]
  },
  {
   "cell_type": "code",
   "execution_count": 5,
   "metadata": {},
   "outputs": [],
   "source": [
    "from word_word_relation import get_relation"
   ]
  },
  {
   "cell_type": "code",
   "execution_count": 6,
   "metadata": {},
   "outputs": [
    {
     "name": "stdout",
     "output_type": "stream",
     "text": [
      "[(('Knowledge Services', 'ORG'), ('Joe Bielawski', 'PERSON'), 'president')]\n"
     ]
    }
   ],
   "source": [
    "rel = get_relation(pary, sent)\n",
    "print(rel)"
   ]
  },
  {
   "cell_type": "markdown",
   "metadata": {},
   "source": [
    "# odpytywania"
   ]
  },
  {
   "cell_type": "code",
   "execution_count": 7,
   "metadata": {},
   "outputs": [],
   "source": [
    "from sparql_resource_property_getter import get_info"
   ]
  },
  {
   "cell_type": "code",
   "execution_count": 8,
   "metadata": {},
   "outputs": [
    {
     "name": "stdout",
     "output_type": "stream",
     "text": [
      "[False, False]\n"
     ]
    }
   ],
   "source": [
    "in_db = get_info(rel[0])\n",
    "print(in_db)"
   ]
  },
  {
   "cell_type": "markdown",
   "metadata": {},
   "source": [
    "# zwracanie"
   ]
  },
  {
   "cell_type": "code",
   "execution_count": 9,
   "metadata": {},
   "outputs": [],
   "source": [
    "from formatuj import formatuj"
   ]
  },
  {
   "cell_type": "code",
   "execution_count": 10,
   "metadata": {
    "scrolled": false
   },
   "outputs": [
    {
     "name": "stdout",
     "output_type": "stream",
     "text": [
      "<https://www.indystar.com/story/news/local/hamilton-county/2017/06/06/indianapolis-company-moving-headquarters-fishers-adding-400-jobs/373808001/#char=0,18> ;\n",
      "a  nif:RFC5147String , nif:String , nif:Phrase ;\n",
      "nif:anchorOf  \"Knowledge Services\"^^xsd:string ;\n",
      "nif:beginIndex  \"0\"^^xsd:nonNegativeInteger ;\n",
      "nif:endIndex  \"18\"^^xsd:nonNegativeInteger ;\n",
      "nif:referenceContext <https://www.indystar.com/story/news/local/hamilton-county/2017/06/06/indianapolis-company-moving-headquarters-fishers-adding-400-jobs/373808001/#char=0,150> ;\n",
      "itsrdf:taIdentRef http://aksw.org/notInWiki/Knowledge_Services .\n",
      "\n",
      "<https://www.indystar.com/story/news/local/hamilton-county/2017/06/06/indianapolis-company-moving-headquarters-fishers-adding-400-jobs/373808001/#char=99,112> ;\n",
      "a  nif:RFC5147String , nif:String , nif:Phrase ;\n",
      "nif:anchorOf  \"Joe Bielawski\"^^xsd:string ;\n",
      "nif:beginIndex  \"99\"^^xsd:nonNegativeInteger ;\n",
      "nif:endIndex  \"112\"^^xsd:nonNegativeInteger ;\n",
      "nif:referenceContext <https://www.indystar.com/story/news/local/hamilton-county/2017/06/06/indianapolis-company-moving-headquarters-fishers-adding-400-jobs/373808001/#char=0,150> ;\n",
      "itsrdf:taIdentRef http://aksw.org/notInWiki/Joe_Bielawski .\n",
      "\n",
      "[]\n",
      "a  rdf:Statement , oa:Annotation ;\n",
      "rdf:object  dbr:Joe_Bielawski ;\n",
      "rdf:predicate  dbo:president ;\n",
      "rdf:subject  aksw:Knowledge_Services ;\n",
      "oa:hasTarget [\n",
      "a oa:SpecificResource;\n",
      "oa:hasSource <https://www.indystar.com/story/news/local/hamilton-county/2017/06/06/indianapolis-company-moving-headquarters-fishers-adding-400-jobs/373808001/#char=0,150> ] .\n"
     ]
    }
   ],
   "source": [
    "formatuj(rel = rel[0], \n",
    "         in_db = in_db, \n",
    "         sent = sent, \n",
    "         meta = sentences[sent])"
   ]
  },
  {
   "cell_type": "code",
   "execution_count": null,
   "metadata": {},
   "outputs": [],
   "source": []
  }
 ],
 "metadata": {
  "kernelspec": {
   "display_name": "Python 3",
   "language": "python",
   "name": "python3"
  },
  "language_info": {
   "codemirror_mode": {
    "name": "ipython",
    "version": 3
   },
   "file_extension": ".py",
   "mimetype": "text/x-python",
   "name": "python",
   "nbconvert_exporter": "python",
   "pygments_lexer": "ipython3",
   "version": "3.6.8"
  }
 },
 "nbformat": 4,
 "nbformat_minor": 2
}
