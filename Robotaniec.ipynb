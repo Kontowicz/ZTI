{
 "cells": [
  {
   "cell_type": "markdown",
   "metadata": {},
   "source": [
    "# wczytywanie"
   ]
  },
  {
   "cell_type": "code",
   "execution_count": 1,
   "metadata": {},
   "outputs": [],
   "source": [
    "from parse import parse_task_1_2"
   ]
  },
  {
   "cell_type": "code",
   "execution_count": 2,
   "metadata": {},
   "outputs": [],
   "source": [
    "meta, sentences = parse_task_1_2('training/file_39.ttl')"
   ]
  },
  {
   "cell_type": "code",
   "execution_count": 3,
   "metadata": {},
   "outputs": [],
   "source": [
    "sent = list(sentences.keys())[0]"
   ]
  },
  {
   "cell_type": "code",
   "execution_count": 4,
   "metadata": {},
   "outputs": [
    {
     "name": "stdout",
     "output_type": "stream",
     "text": [
      "\n",
      "Knowledge Services and Dotstaff is incredibly happy to be a part of this wonderful community, said Joe Bielawski, the president of Knowledge Services.\n",
      "\n"
     ]
    }
   ],
   "source": [
    "print()\n",
    "print(sent)\n",
    "print()"
   ]
  },
  {
   "cell_type": "markdown",
   "metadata": {},
   "source": [
    "# parsowanie"
   ]
  },
  {
   "cell_type": "code",
   "execution_count": 5,
   "metadata": {},
   "outputs": [],
   "source": [
    "from entities_recognition_tester import process_using_spacy\n",
    "import en_core_web_sm"
   ]
  },
  {
   "cell_type": "code",
   "execution_count": 6,
   "metadata": {},
   "outputs": [
    {
     "name": "stdout",
     "output_type": "stream",
     "text": [
      "\n",
      "[('Dotstaff', 'ORG'), ('Joe Bielawski', 'PERSON'), ('Knowledge Services', 'ORG')]\n",
      "\n"
     ]
    }
   ],
   "source": [
    "pary = process_using_spacy(sent, en_core = en_core_web_sm.load(), format_result=True)\n",
    "\n",
    "print()\n",
    "print(pary)\n",
    "print()"
   ]
  },
  {
   "cell_type": "code",
   "execution_count": 7,
   "metadata": {},
   "outputs": [],
   "source": [
    "import itertools\n",
    "perm = list(itertools.permutations(pary[1:], 2))"
   ]
  },
  {
   "cell_type": "code",
   "execution_count": 8,
   "metadata": {},
   "outputs": [],
   "source": [
    "big_dict = {\n",
    "     ('Organisation', 'Organisation'): ['affiliation'],\n",
    "     ('Person', 'EducationalInstitution'): ['almaMater'],\n",
    "     ('Band', 'Person'): ['formerBandMember', 'bandMember'],\n",
    "     ('Person', 'Place'): ['deathPlace', 'birthPlace'],\n",
    "     ('Organisation', 'Person'): ['president', 'ceo'],\n",
    "     ('Person', 'Person'): ['spouse', 'relative', 'parent', 'child'],\n",
    "     ('Athlete', 'SportsTeam'): ['formerTeam', 'debutTeam', 'club'],\n",
    "     ('Organisation', 'Country'): ['country'],\n",
    "     ('Person', 'Country'): ['country'],\n",
    "     ('Place', 'Country'): ['country'],\n",
    "     ('PopulatedPlace', 'PopulatedPlace'): ['department'],\n",
    "     ('Place', 'PopulatedPlace'): ['district'],\n",
    "     ('Scientist', 'Person'): ['doctoralStudent', 'doctoralAdvisor'],\n",
    "     ('Person', 'Organisation'): ['employer'],\n",
    "     ('Organisation', 'City'): ['foundationPlace'],\n",
    "     ('Organisation', 'PopulatedPlace'): ['headquarter'],\n",
    "     ('Organisation', 'Settlement'): ['hometown'],\n",
    "     ('Person', 'Settlement'): ['hometown'],\n",
    "     ('PopulatedPlace', 'Person'): ['leaderName'],\n",
    "     ('Place', 'Place'): ['locatedInArea'],\n",
    "     ('Organisation', 'Place'): ['location'],\n",
    "     ('Person', 'Place'): ['location'],\n",
    "     ('Place', 'Place'): ['location'],\n",
    "     ('Person', 'Country'): ['nationality'],\n",
    "     ('Company', 'Company'): ['subsidiary'],\n",
    "     ('ArchitecturalStructure', 'Organisation'): ['tenant'],\n",
    "     ('Athlete', 'Person'): ['trainer']\n",
    "}"
   ]
  },
  {
   "cell_type": "code",
   "execution_count": 9,
   "metadata": {},
   "outputs": [],
   "source": [
    "maps = {\n",
    "    'ORG': 'Organisation',\n",
    "    'PERSON': 'Person'\n",
    "}"
   ]
  },
  {
   "cell_type": "code",
   "execution_count": 10,
   "metadata": {},
   "outputs": [
    {
     "data": {
      "text/plain": [
       "[(('Knowledge Services', 'ORG'), ('Joe Bielawski', 'PERSON'), 'president')]"
      ]
     },
     "execution_count": 10,
     "metadata": {},
     "output_type": "execute_result"
    }
   ],
   "source": [
    "rel = []\n",
    "for a,b in perm:\n",
    "    co = big_dict[(maps[a[1]], maps[b[1]])]\n",
    "    for c in co:\n",
    "        if c in sent:\n",
    "            rel.append((a, b, c)) \n",
    "            \n",
    "rel"
   ]
  },
  {
   "cell_type": "markdown",
   "metadata": {},
   "source": [
    "# odpytywania"
   ]
  },
  {
   "cell_type": "code",
   "execution_count": 11,
   "metadata": {},
   "outputs": [],
   "source": [
    "from sparql_resource_property_getter import get_resource, find_property"
   ]
  },
  {
   "cell_type": "markdown",
   "metadata": {},
   "source": [
    "# zwracanie"
   ]
  },
  {
   "cell_type": "code",
   "execution_count": 12,
   "metadata": {},
   "outputs": [],
   "source": [
    "to = sentences[sent].split('\\n')"
   ]
  },
  {
   "cell_type": "code",
   "execution_count": 13,
   "metadata": {},
   "outputs": [
    {
     "name": "stdout",
     "output_type": "stream",
     "text": [
      "<https://www.indystar.com/story/news/local/hamilton-county/2017/06/06/indianapolis-company-moving-headquarters-fishers-adding-400-jobs/373808001/#char=0,18> ;\n",
      "a nif:Phrase , nif:String , nif:RFC5147String ;\n",
      "nif:anchorOf  \"Knowledge Services\"^^xsd:string ;\n",
      "nif:beginIndex  \"0\"^^xsd:nonNegativeInteger ;\n",
      "nif:endIndex  \"18\"^^xsd:nonNegativeInteger ;\n",
      "<https://www.indystar.com/story/news/local/hamilton-county/2017/06/06/indianapolis-company-moving-headquarters-fishers-adding-400-jobs/373808001/#char=0,150> ;\n",
      "itsrdf:taIdentRef http://aksw.org/notInWiki/Knowledge_Services .\n"
     ]
    }
   ],
   "source": [
    "word = rel[0][0][0]\n",
    "start_index = sent.find(word)\n",
    "end_index = start_index+len(word)\n",
    "\n",
    "word_ns_0 = word.replace(' ', '_')\n",
    "\n",
    "print(to[0].split('#')[0]+f'#char={start_index},{end_index}> ;')\n",
    "print(\" \".join(to[1].split()).replace('nif:Context', 'nif:Phrase'))\n",
    "print(f'nif:anchorOf  \"{word}\"^^xsd:string ;')\n",
    "print(f'nif:beginIndex  \"{start_index}\"^^xsd:nonNegativeInteger ;')\n",
    "print(f'nif:endIndex  \"{end_index}\"^^xsd:nonNegativeInteger ;')\n",
    "print(to[0] + ' ;')\n",
    "\n",
    "if len(get_resource(word_ns_0)) > 0:\n",
    "    print(f'itsrdf:taIdentRef dbr:{word_ns_0} .')\n",
    "else:\n",
    "    print(f'itsrdf:taIdentRef http://aksw.org/notInWiki/{word_ns_0} .')"
   ]
  },
  {
   "cell_type": "code",
   "execution_count": 14,
   "metadata": {},
   "outputs": [
    {
     "name": "stdout",
     "output_type": "stream",
     "text": [
      "<https://www.indystar.com/story/news/local/hamilton-county/2017/06/06/indianapolis-company-moving-headquarters-fishers-adding-400-jobs/373808001/#char=99,112> ;\n",
      "a nif:Phrase , nif:String , nif:RFC5147String ;\n",
      "nif:anchorOf  \"Joe Bielawski\"^^xsd:string ;\n",
      "nif:beginIndex  \"99\"^^xsd:nonNegativeInteger ;\n",
      "nif:endIndex  \"112\"^^xsd:nonNegativeInteger ;\n",
      "<https://www.indystar.com/story/news/local/hamilton-county/2017/06/06/indianapolis-company-moving-headquarters-fishers-adding-400-jobs/373808001/#char=0,150> ;\n",
      "itsrdf:taIdentRef http://aksw.org/notInWiki/Joe_Bielawski .\n"
     ]
    }
   ],
   "source": [
    "word = rel[0][1][0]\n",
    "start_index = sent.find(word)\n",
    "end_index = start_index+len(word)\n",
    "\n",
    "word_ns_1 = word.replace(' ', '_')\n",
    "\n",
    "print(to[0].split('#')[0]+f'#char={start_index},{end_index}> ;')\n",
    "print(\" \".join(to[1].split()).replace('nif:Context', 'nif:Phrase'))\n",
    "print(f'nif:anchorOf  \"{word}\"^^xsd:string ;')\n",
    "print(f'nif:beginIndex  \"{start_index}\"^^xsd:nonNegativeInteger ;')\n",
    "print(f'nif:endIndex  \"{end_index}\"^^xsd:nonNegativeInteger ;')\n",
    "print(to[0] + ' ;')\n",
    "\n",
    "\n",
    "if len(get_resource(word_ns_1)) > 0:\n",
    "    print(f'itsrdf:taIdentRef dbr:{word_ns_1} .')\n",
    "else:\n",
    "    print(f'itsrdf:taIdentRef http://aksw.org/notInWiki/{word_ns_1} .')"
   ]
  },
  {
   "cell_type": "code",
   "execution_count": 15,
   "metadata": {},
   "outputs": [
    {
     "name": "stdout",
     "output_type": "stream",
     "text": [
      "[]\n",
      "a  rdf:Statement , oa:Annotation ;\n",
      "rdf:object  dbr:Joe_Bielawski ;\n",
      "rdf:predicate  dbo:president ;\n",
      "rdf:subject  aksw:Knowledge_Services ;\n",
      "oa:hasTarget [\n",
      "a oa:SpecificResource;\n",
      "oa:hasSource <https://www.indystar.com/story/news/local/hamilton-county/2017/06/06/indianapolis-company-moving-headquarters-fishers-adding-400-jobs/373808001/#char=0,150> ] .\n"
     ]
    }
   ],
   "source": [
    "print('[]')\n",
    "print('a  rdf:Statement , oa:Annotation ;')\n",
    "print(f'rdf:object  dbr:{word_ns_1} ;')\n",
    "print(f'rdf:predicate  dbo:{rel[0][2]} ;')\n",
    "print(f'rdf:subject  aksw:{word_ns_0} ;')\n",
    "print('oa:hasTarget [')\n",
    "print('a oa:SpecificResource;')\n",
    "print(f'oa:hasSource {to[0]} ] .')"
   ]
  },
  {
   "cell_type": "code",
   "execution_count": null,
   "metadata": {},
   "outputs": [],
   "source": []
  }
 ],
 "metadata": {
  "kernelspec": {
   "display_name": "Python 3",
   "language": "python",
   "name": "python3"
  },
  "language_info": {
   "codemirror_mode": {
    "name": "ipython",
    "version": 3
   },
   "file_extension": ".py",
   "mimetype": "text/x-python",
   "name": "python",
   "nbconvert_exporter": "python",
   "pygments_lexer": "ipython3",
   "version": "3.6.8"
  }
 },
 "nbformat": 4,
 "nbformat_minor": 2
}
