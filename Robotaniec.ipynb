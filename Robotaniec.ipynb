{
 "cells": [
  {
   "cell_type": "markdown",
   "metadata": {},
   "source": [
    "# wczytywanie"
   ]
  },
  {
   "cell_type": "code",
   "execution_count": 67,
   "metadata": {},
   "outputs": [],
   "source": [
    "from parse import parse_task_1_2"
   ]
  },
  {
   "cell_type": "code",
   "execution_count": 68,
   "metadata": {},
   "outputs": [
    {
     "name": "stdout",
     "output_type": "stream",
     "text": [
      "Knowledge Services and Dotstaff is incredibly happy to be a part of this wonderful community, said Joe Bielawski, the president of Knowledge Services.\n"
     ]
    }
   ],
   "source": [
    "sent, sentences = parse_task_1_2('training/file_39.ttl', only_sentences=True)\n",
    "print(sent)"
   ]
  },
  {
   "cell_type": "markdown",
   "metadata": {},
   "source": [
    "# parsowanie"
   ]
  },
  {
   "cell_type": "code",
   "execution_count": 69,
   "metadata": {},
   "outputs": [],
   "source": [
    "from entities_recognition_tester import process_using_spacy\n",
    "import en_core_web_sm"
   ]
  },
  {
   "cell_type": "code",
   "execution_count": 70,
   "metadata": {},
   "outputs": [
    {
     "name": "stdout",
     "output_type": "stream",
     "text": [
      "[('Dotstaff', 'ORG'), ('Joe Bielawski', 'PERSON'), ('Knowledge Services', 'ORG')]\n"
     ]
    }
   ],
   "source": [
    "pary = process_using_spacy(sent, en_core = en_core_web_sm.load(), format_result=True)\n",
    "print(pary)"
   ]
  },
  {
   "cell_type": "code",
   "execution_count": 91,
   "metadata": {},
   "outputs": [],
   "source": [
    "knowladge = [\n",
    "    # coś, coś, relacja, słowa kluczowe do rozpoznania relacji\n",
    "    ['ORG', 'ORG', 'affiliation', ['relate','affiliated']],\n",
    "    ['Person', 'EducationalInstitution',  'almaMater', ['study','college','educated','graduated']],\n",
    "    ['Band', 'Person', 'bandMember', ['play', 'music','band']],\n",
    "    ['Person', 'Place', 'birth', ['birth', 'born','from']],\n",
    "    ['Person', 'ORG', 'ceo', ['president', 'boss', 'head', 'chief','ceo']],\n",
    "    ['Person', 'Person', 'child', ['child','son','daughter']],\n",
    "    ['Athlete', 'SportsTeam', 'club', ['train', 'play','player','club','team']],\n",
    "    ['ORG', 'country', 'country', ['located','from','in']],\n",
    "    ['Person', 'country', 'country', ['located','from','in']],\n",
    "    ['Place', 'country', 'country', ['located','from','in']],\n",
    "    ['Person', 'Place',  'death', ['death','died','passed']],\n",
    "    ['ATHLETE', 'SPOERTSTEAM', 'debutTeam', ['first','debut']],\n",
    "    ['PopulatedPlace', 'PopulatedPlace', 'department', ['from', 'in','department']],\n",
    "    ['Place', 'PopulatedPlace', 'district', ['in','district']],\n",
    "    ['Scientist', 'Person', 'doctoralAdvisor', ['doctorate', 'doctoral']],\n",
    "    ['Scientist', 'Person', 'doctoralStudent', ['doctorate', 'doctoral']],\n",
    "    ['Person', 'ORG', 'employer', ['work', 'boss','employer']],\n",
    "    ['Band', 'Person', 'formerBandMember', ['former']],\n",
    "    ['Athlete', 'SportsTeam', 'formerTeam', ['played','former']],\n",
    "    ['ORG', 'City', 'foundationPlace', ['in', 'located','from','founded']],\n",
    "    ['ORG', 'PopulatedPlace', 'headquarter', ['in','located','headquarter']],\n",
    "    ['ORG', 'Settlement', 'hometown', ['from','hometown','in']],\n",
    "    ['Person', 'Settlement', 'hometown', ['from', 'lives','hometown']],  \n",
    "    ['PopulatedPlace', 'Person', 'leaderName', ['president','congress','leader']],\n",
    "    ['Place', 'Place', 'locatedInArea', ['from', 'in','at','located']],\n",
    "    ['Person', 'Place', 'location', ['at','in','located']],\n",
    "    ['ORG', 'Place', 'location', ['at','in','located']],\n",
    "    ['Place', 'Place', 'location', ['at','in','located']],\n",
    "    ['Person', 'Country', 'nationality', ['from','descent','nationality']],  \n",
    "    ['Person', 'Person', 'parent', ['child','father','mother','guardian','parent']],  \n",
    "    ['ORG', 'Person', 'president', ['president','leader']],\n",
    "    ['Person', 'ORG', 'president', ['president','leader']],\n",
    "    ['Person', 'Person', 'relative', ['mother','father','son','daughter','relative','family']],\n",
    "    ['Person', 'Person', 'spouse', ['wife', 'husband','spouse']], \n",
    "    ['Company', 'Company', 'subsidiary', ['subcontractor','contractor','subsidiary']],\n",
    "    ['ArchitecturalStructure', 'ORG', 'tenant', ['rent','tenant','inhabit','inhabitany']],\n",
    "    ['Athlete', 'Person', 'trainer', ['train','trainer']]\n",
    "]"
   ]
  },
  {
   "cell_type": "code",
   "execution_count": 96,
   "metadata": {},
   "outputs": [],
   "source": [
    "def get_synonims(word):\n",
    "    from nltk.corpus import wordnet\n",
    "    synonyms = []\n",
    "    antonyms = []\n",
    "\n",
    "    for syn in wordnet.synsets(\"active\"):\n",
    "        for l in syn.lemmas():\n",
    "            synonyms.append(l.name())\n",
    "    return synonyms\n",
    "\n",
    "def add_synonims():\n",
    "    for i in range(0, len(knowladge)):\n",
    "        basic = knowladge[i][3]\n",
    "        wide = []\n",
    "        for item in basic:\n",
    "            wide.append(item)\n",
    "            wide += get_synonims(item)\n",
    "        \n",
    "        wide = list(set(wide))\n",
    "        wide = [re.sub(r'[^a-zA-Z0-9 ]', ' ', word) for word in wide]\n",
    "        \n",
    "        knowladge[i][3] = list(set(wide))\n",
    "        "
   ]
  },
  {
   "cell_type": "code",
   "execution_count": 97,
   "metadata": {},
   "outputs": [
    {
     "name": "stdout",
     "output_type": "stream",
     "text": [
      "['active agent', 'dynamic', 'affiliated', 'active agent', 'relate', 'fighting', 'active voice', 'combat ready', 'alive', 'combat ready', 'active voice', 'participating', 'active']\n",
      "['active agent', 'dynamic', 'college', 'active agent', 'graduated', 'active voice', 'fighting', 'active voice', 'combat ready', 'alive', 'study', 'combat ready', 'educated', 'participating', 'active']\n",
      "['active agent', 'dynamic', 'active agent', 'fighting', 'active voice', 'combat ready', 'music', 'alive', 'play', 'combat ready', 'active voice', 'participating', 'active', 'band']\n",
      "['birth', 'active agent', 'dynamic', 'from', 'active agent', 'fighting', 'active voice', 'combat ready', 'alive', 'born', 'combat ready', 'active voice', 'participating', 'active']\n",
      "['chief', 'active agent', 'dynamic', 'active agent', 'boss', 'fighting', 'active voice', 'ceo', 'president', 'combat ready', 'alive', 'combat ready', 'active voice', 'head', 'participating', 'active']\n",
      "['child', 'active agent', 'dynamic', 'active agent', 'son', 'fighting', 'active voice', 'combat ready', 'alive', 'daughter', 'combat ready', 'active voice', 'participating', 'active']\n",
      "['active agent', 'dynamic', 'active agent', 'club', 'active voice', 'fighting', 'active voice', 'train', 'combat ready', 'alive', 'play', 'combat ready', 'team', 'participating', 'active', 'player']\n",
      "['in', 'active agent', 'from', 'dynamic', 'active agent', 'fighting', 'active voice', 'combat ready', 'alive', 'located', 'combat ready', 'active voice', 'participating', 'active']\n",
      "['in', 'active agent', 'from', 'dynamic', 'active agent', 'fighting', 'active voice', 'combat ready', 'alive', 'located', 'combat ready', 'active voice', 'participating', 'active']\n",
      "['in', 'active agent', 'from', 'dynamic', 'active agent', 'fighting', 'active voice', 'combat ready', 'alive', 'located', 'combat ready', 'active voice', 'participating', 'active']\n",
      "['active agent', 'dynamic', 'death', 'active agent', 'passed', 'fighting', 'active voice', 'combat ready', 'alive', 'died', 'combat ready', 'active voice', 'participating', 'active']\n",
      "['active agent', 'dynamic', 'active agent', 'fighting', 'active voice', 'debut', 'combat ready', 'alive', 'first', 'combat ready', 'active voice', 'participating', 'active']\n",
      "['in', 'active agent', 'from', 'dynamic', 'active agent', 'fighting', 'active voice', 'department', 'combat ready', 'alive', 'combat ready', 'active voice', 'participating', 'active']\n",
      "['in', 'active agent', 'dynamic', 'active agent', 'fighting', 'active voice', 'combat ready', 'alive', 'district', 'combat ready', 'active voice', 'participating', 'active']\n",
      "['active agent', 'dynamic', 'active agent', 'doctorate', 'fighting', 'active voice', 'combat ready', 'doctoral', 'alive', 'combat ready', 'active voice', 'participating', 'active']\n",
      "['active agent', 'dynamic', 'active agent', 'doctorate', 'fighting', 'active voice', 'combat ready', 'doctoral', 'alive', 'combat ready', 'active voice', 'participating', 'active']\n",
      "['participating', 'active agent', 'dynamic', 'active agent', 'boss', 'fighting', 'active voice', 'combat ready', 'alive', 'work', 'combat ready', 'active voice', 'employer', 'active']\n",
      "['active agent', 'dynamic', 'active agent', 'former', 'fighting', 'active voice', 'combat ready', 'alive', 'combat ready', 'active voice', 'participating', 'active']\n",
      "['active agent', 'dynamic', 'played', 'active agent', 'former', 'fighting', 'active voice', 'combat ready', 'alive', 'combat ready', 'active voice', 'participating', 'active']\n",
      "['in', 'active agent', 'founded', 'dynamic', 'from', 'active agent', 'fighting', 'active voice', 'combat ready', 'alive', 'located', 'combat ready', 'active voice', 'participating', 'active']\n",
      "['in', 'active agent', 'dynamic', 'active agent', 'fighting', 'active voice', 'headquarter', 'combat ready', 'alive', 'located', 'combat ready', 'active voice', 'participating', 'active']\n",
      "['in', 'active agent', 'from', 'dynamic', 'active agent', 'hometown', 'fighting', 'active voice', 'combat ready', 'alive', 'combat ready', 'active voice', 'participating', 'active']\n",
      "['active agent', 'from', 'dynamic', 'active agent', 'hometown', 'fighting', 'active voice', 'combat ready', 'alive', 'combat ready', 'active voice', 'participating', 'active', 'lives']\n",
      "['leader', 'active agent', 'dynamic', 'active agent', 'fighting', 'active voice', 'president', 'combat ready', 'alive', 'congress', 'combat ready', 'active voice', 'participating', 'active']\n",
      "['in', 'active agent', 'from', 'dynamic', 'active agent', 'at', 'fighting', 'active voice', 'combat ready', 'alive', 'located', 'combat ready', 'active voice', 'participating', 'active']\n",
      "['in', 'active agent', 'dynamic', 'active agent', 'at', 'fighting', 'active voice', 'combat ready', 'alive', 'located', 'combat ready', 'active voice', 'participating', 'active']\n",
      "['in', 'active agent', 'dynamic', 'active agent', 'at', 'fighting', 'active voice', 'combat ready', 'alive', 'located', 'combat ready', 'active voice', 'participating', 'active']\n",
      "['in', 'active agent', 'dynamic', 'active agent', 'at', 'fighting', 'active voice', 'combat ready', 'alive', 'located', 'combat ready', 'active voice', 'participating', 'active']\n",
      "['active agent', 'from', 'dynamic', 'active agent', 'fighting', 'active voice', 'nationality', 'combat ready', 'alive', 'combat ready', 'active voice', 'descent', 'participating', 'active']\n",
      "['parent', 'mother', 'child', 'active agent', 'dynamic', 'active agent', 'fighting', 'active voice', 'father', 'combat ready', 'alive', 'combat ready', 'active voice', 'participating', 'active', 'guardian']\n",
      "['leader', 'active agent', 'dynamic', 'active agent', 'fighting', 'active voice', 'president', 'combat ready', 'alive', 'combat ready', 'active voice', 'participating', 'active']\n",
      "['leader', 'active agent', 'dynamic', 'active agent', 'fighting', 'active voice', 'president', 'combat ready', 'alive', 'combat ready', 'active voice', 'participating', 'active']\n",
      "['mother', 'relative', 'active agent', 'dynamic', 'active agent', 'son', 'fighting', 'active voice', 'father', 'combat ready', 'alive', 'daughter', 'family', 'combat ready', 'active voice', 'participating', 'active']\n",
      "['spouse', 'active agent', 'dynamic', 'active agent', 'fighting', 'active voice', 'wife', 'husband', 'combat ready', 'alive', 'combat ready', 'active voice', 'participating', 'active']\n",
      "['active agent', 'subsidiary', 'dynamic', 'subcontractor', 'active agent', 'contractor', 'fighting', 'active voice', 'combat ready', 'alive', 'combat ready', 'active voice', 'participating', 'active']\n",
      "['active agent', 'dynamic', 'rent', 'active agent', 'fighting', 'active voice', 'tenant', 'combat ready', 'inhabitany', 'alive', 'inhabit', 'combat ready', 'active voice', 'participating', 'active']\n",
      "['trainer', 'active agent', 'dynamic', 'active agent', 'fighting', 'active voice', 'train', 'combat ready', 'alive', 'combat ready', 'active voice', 'participating', 'active']\n",
      "['dynamic', 'affiliated', 'active agent', 'relate', 'fighting', 'combat ready', 'alive', 'active voice', 'participating', 'active']\n",
      "\n",
      "ceo\n",
      "['PERSON', 'the', 'president', 'of', 'ORG']\n",
      "\n"
     ]
    }
   ],
   "source": [
    "add_synonims()\n",
    "print(knowladge[0][3])\n",
    "import copy\n",
    "zdanie = copy.copy(sent)\n",
    "\n",
    "for item in pary:\n",
    "    zdanie = zdanie.replace(item[0], item[1])\n",
    "\n",
    "def in_first(word):\n",
    "    to_return = []\n",
    "    for item in knowladge:\n",
    "        if word.capitalize() == item[0].capitalize():\n",
    "            to_return.append(item)\n",
    "    return to_return\n",
    "\n",
    "\n",
    "\n",
    "from nltk.stem import WordNetLemmatizer \n",
    "import re\n",
    "lemmatizer = WordNetLemmatizer()\n",
    "\n",
    "zdanie = re.sub(r'[^a-zA-Z0-9 ]', '', zdanie)\n",
    "zdanie = zdanie.split(' ')\n",
    "for i in range(0, len(zdanie)):\n",
    "    tmp = in_first(zdanie[i])\n",
    "    if tmp != []:\n",
    "        string = zdanie[i+1::]\n",
    "        for item in tmp:\n",
    "            if item[1] in string:\n",
    "                pos = string.index(item[1])\n",
    "                string = string[0:pos]\n",
    "                string = [lemmatizer.lemmatize(word) for word in string]\n",
    "                for kw in item[3]:\n",
    "                    if lemmatizer.lemmatize(kw) in string:\n",
    "                        print()\n",
    "                        print(item[2]) #nazwa relacji\n",
    "                        print(zdanie[i:])\n",
    "                        print()\n",
    "            "
   ]
  },
  {
   "cell_type": "code",
   "execution_count": 32,
   "metadata": {},
   "outputs": [
    {
     "name": "stdout",
     "output_type": "stream",
     "text": [
      "[]\n",
      "[]\n",
      "[]\n"
     ]
    },
    {
     "data": {
      "text/plain": [
       "[None, None, None]"
      ]
     },
     "execution_count": 32,
     "metadata": {},
     "output_type": "execute_result"
    }
   ],
   "source": [
    "from sparql_resource_property_getter import get_resource\n",
    "\n",
    "[print(get_resource(think)) for think, label in pary]"
   ]
  },
  {
   "cell_type": "markdown",
   "metadata": {},
   "source": [
    "# relacja"
   ]
  },
  {
   "cell_type": "code",
   "execution_count": 5,
   "metadata": {},
   "outputs": [],
   "source": [
    "from word_word_relation import get_relation"
   ]
  },
  {
   "cell_type": "code",
   "execution_count": 25,
   "metadata": {},
   "outputs": [
    {
     "name": "stdout",
     "output_type": "stream",
     "text": [
      "(('Dotstaff', 'ORG'), ('Joe Bielawski', 'PERSON'), 'president')\n",
      "(('Knowledge Services', 'ORG'), ('Joe Bielawski', 'PERSON'), 'president')\n"
     ]
    },
    {
     "data": {
      "text/plain": [
       "[None, None]"
      ]
     },
     "execution_count": 25,
     "metadata": {},
     "output_type": "execute_result"
    }
   ],
   "source": [
    "rel = get_relation(pary, sent)\n",
    "[print(r) for r in rel]"
   ]
  },
  {
   "cell_type": "markdown",
   "metadata": {},
   "source": [
    "# odpytywania"
   ]
  },
  {
   "cell_type": "code",
   "execution_count": 7,
   "metadata": {},
   "outputs": [],
   "source": [
    "from sparql_resource_property_getter import get_info"
   ]
  },
  {
   "cell_type": "code",
   "execution_count": 8,
   "metadata": {},
   "outputs": [
    {
     "name": "stdout",
     "output_type": "stream",
     "text": [
      "[False, False]\n"
     ]
    }
   ],
   "source": [
    "in_db = get_info(rel[1])\n",
    "print(in_db)"
   ]
  },
  {
   "cell_type": "markdown",
   "metadata": {},
   "source": [
    "# zwracanie"
   ]
  },
  {
   "cell_type": "code",
   "execution_count": 9,
   "metadata": {},
   "outputs": [],
   "source": [
    "from formatuj import formatuj"
   ]
  },
  {
   "cell_type": "code",
   "execution_count": 10,
   "metadata": {
    "scrolled": false
   },
   "outputs": [
    {
     "name": "stdout",
     "output_type": "stream",
     "text": [
      "<https://www.indystar.com/story/news/local/hamilton-county/2017/06/06/indianapolis-company-moving-headquarters-fishers-adding-400-jobs/373808001/#char=0,18> ;\n",
      "a  nif:RFC5147String , nif:String , nif:Phrase ;\n",
      "nif:anchorOf  \"Knowledge Services\"^^xsd:string ;\n",
      "nif:beginIndex  \"0\"^^xsd:nonNegativeInteger ;\n",
      "nif:endIndex  \"18\"^^xsd:nonNegativeInteger ;\n",
      "nif:referenceContext <https://www.indystar.com/story/news/local/hamilton-county/2017/06/06/indianapolis-company-moving-headquarters-fishers-adding-400-jobs/373808001/#char=0,150> ;\n",
      "itsrdf:taIdentRef http://aksw.org/notInWiki/Knowledge_Services .\n",
      "\n",
      "<https://www.indystar.com/story/news/local/hamilton-county/2017/06/06/indianapolis-company-moving-headquarters-fishers-adding-400-jobs/373808001/#char=99,112> ;\n",
      "a  nif:RFC5147String , nif:String , nif:Phrase ;\n",
      "nif:anchorOf  \"Joe Bielawski\"^^xsd:string ;\n",
      "nif:beginIndex  \"99\"^^xsd:nonNegativeInteger ;\n",
      "nif:endIndex  \"112\"^^xsd:nonNegativeInteger ;\n",
      "nif:referenceContext <https://www.indystar.com/story/news/local/hamilton-county/2017/06/06/indianapolis-company-moving-headquarters-fishers-adding-400-jobs/373808001/#char=0,150> ;\n",
      "itsrdf:taIdentRef http://aksw.org/notInWiki/Joe_Bielawski .\n",
      "\n",
      "[]\n",
      "a  rdf:Statement , oa:Annotation ;\n",
      "rdf:object  dbr:Joe_Bielawski ;\n",
      "rdf:predicate  dbo:president ;\n",
      "rdf:subject  aksw:Knowledge_Services ;\n",
      "oa:hasTarget [\n",
      "a oa:SpecificResource;\n",
      "oa:hasSource <https://www.indystar.com/story/news/local/hamilton-county/2017/06/06/indianapolis-company-moving-headquarters-fishers-adding-400-jobs/373808001/#char=0,150> ] .\n"
     ]
    }
   ],
   "source": [
    "formatuj(rel = rel[1], \n",
    "         in_db = in_db, \n",
    "         sent = sent, \n",
    "         meta = sentences[sent])"
   ]
  },
  {
   "cell_type": "code",
   "execution_count": null,
   "metadata": {},
   "outputs": [],
   "source": []
  }
 ],
 "metadata": {
  "kernelspec": {
   "display_name": "Python 3",
   "language": "python",
   "name": "python3"
  },
  "language_info": {
   "codemirror_mode": {
    "name": "ipython",
    "version": 3
   },
   "file_extension": ".py",
   "mimetype": "text/x-python",
   "name": "python",
   "nbconvert_exporter": "python",
   "pygments_lexer": "ipython3",
   "version": "3.7.4"
  }
 },
 "nbformat": 4,
 "nbformat_minor": 2
}
