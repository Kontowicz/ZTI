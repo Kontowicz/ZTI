{
 "cells": [
  {
   "cell_type": "markdown",
   "metadata": {},
   "source": [
    "# wczytywanie"
   ]
  },
  {
   "cell_type": "code",
   "execution_count": 1,
   "metadata": {},
   "outputs": [],
   "source": [
    "from parse import parse_task_1_2"
   ]
  },
  {
   "cell_type": "code",
   "execution_count": 2,
   "metadata": {},
   "outputs": [],
   "source": [
    "meta, sentences = parse_task_1_2('training/file_39.ttl')"
   ]
  },
  {
   "cell_type": "code",
   "execution_count": 3,
   "metadata": {},
   "outputs": [],
   "source": [
    "sent = list(sentences.keys())[0]"
   ]
  },
  {
   "cell_type": "code",
   "execution_count": 4,
   "metadata": {},
   "outputs": [
    {
     "data": {
      "text/plain": [
       "'Knowledge Services and Dotstaff is incredibly happy to be a part of this wonderful community, said Joe Bielawski, the president of Knowledge Services.'"
      ]
     },
     "execution_count": 4,
     "metadata": {},
     "output_type": "execute_result"
    }
   ],
   "source": [
    "sent"
   ]
  },
  {
   "cell_type": "markdown",
   "metadata": {},
   "source": [
    "# parsowanie"
   ]
  },
  {
   "cell_type": "code",
   "execution_count": 5,
   "metadata": {},
   "outputs": [],
   "source": [
    "from entities_recognition_tester import process_using_spacy\n",
    "import en_core_web_sm"
   ]
  },
  {
   "cell_type": "code",
   "execution_count": 6,
   "metadata": {},
   "outputs": [
    {
     "data": {
      "text/plain": [
       "[('Dotstaff', 'ORG'),\n",
       " ('Joe Bielawski', 'PERSON'),\n",
       " ('Knowledge Services', 'ORG')]"
      ]
     },
     "execution_count": 6,
     "metadata": {},
     "output_type": "execute_result"
    }
   ],
   "source": [
    "pary = process_using_spacy(sent, en_core = en_core_web_sm.load(), format_result=True)\n",
    "pary"
   ]
  },
  {
   "cell_type": "code",
   "execution_count": 15,
   "metadata": {},
   "outputs": [
    {
     "data": {
      "text/plain": [
       "[(('Joe Bielawski', 'PERSON'), ('Knowledge Services', 'ORG')),\n",
       " (('Knowledge Services', 'ORG'), ('Joe Bielawski', 'PERSON'))]"
      ]
     },
     "execution_count": 15,
     "metadata": {},
     "output_type": "execute_result"
    }
   ],
   "source": [
    "import itertools\n",
    "perm = list(itertools.permutations(pary[1:], 2))\n",
    "perm"
   ]
  },
  {
   "cell_type": "code",
   "execution_count": 8,
   "metadata": {},
   "outputs": [],
   "source": [
    "big_dict = {\n",
    "     ('Organisation', 'Organisation'): ['affiliation'],\n",
    "     ('Person', 'EducationalInstitution'): ['almaMater'],\n",
    "     ('Band', 'Person'): ['formerBandMember', 'bandMember'],\n",
    "     ('Person', 'Place'): ['deathPlace', 'birthPlace'],\n",
    "     ('Organisation', 'Person'): ['president', 'ceo'],\n",
    "     ('Person', 'Person'): ['spouse', 'relative', 'parent', 'child'],\n",
    "     ('Athlete', 'SportsTeam'): ['formerTeam', 'debutTeam', 'club'],\n",
    "     ('Organisation', 'Country'): ['country'],\n",
    "     ('Person', 'Country'): ['country'],\n",
    "     ('Place', 'Country'): ['country'],\n",
    "     ('PopulatedPlace', 'PopulatedPlace'): ['department'],\n",
    "     ('Place', 'PopulatedPlace'): ['district'],\n",
    "     ('Scientist', 'Person'): ['doctoralStudent', 'doctoralAdvisor'],\n",
    "     ('Person', 'Organisation'): ['employer'],\n",
    "     ('Organisation', 'City'): ['foundationPlace'],\n",
    "     ('Organisation', 'PopulatedPlace'): ['headquarter'],\n",
    "     ('Organisation', 'Settlement'): ['hometown'],\n",
    "     ('Person', 'Settlement'): ['hometown'],\n",
    "     ('PopulatedPlace', 'Person'): ['leaderName'],\n",
    "     ('Place', 'Place'): ['locatedInArea'],\n",
    "     ('Organisation', 'Place'): ['location'],\n",
    "     ('Person', 'Place'): ['location'],\n",
    "     ('Place', 'Place'): ['location'],\n",
    "     ('Person', 'Country'): ['nationality'],\n",
    "     ('Company', 'Company'): ['subsidiary'],\n",
    "     ('ArchitecturalStructure', 'Organisation'): ['tenant'],\n",
    "     ('Athlete', 'Person'): ['trainer']\n",
    "}"
   ]
  },
  {
   "cell_type": "code",
   "execution_count": 9,
   "metadata": {},
   "outputs": [],
   "source": [
    "maps = {\n",
    "    'ORG': 'Organisation',\n",
    "    'PERSON': 'Person'\n",
    "}"
   ]
  },
  {
   "cell_type": "code",
   "execution_count": 16,
   "metadata": {},
   "outputs": [
    {
     "data": {
      "text/plain": [
       "[(('Knowledge Services', 'ORG'), ('Joe Bielawski', 'PERSON'), 'president')]"
      ]
     },
     "execution_count": 16,
     "metadata": {},
     "output_type": "execute_result"
    }
   ],
   "source": [
    "rel = []\n",
    "for a,b in perm:\n",
    "    co = big_dict[(maps[a[1]], maps[b[1]])]\n",
    "    for c in co:\n",
    "        if c in sent:\n",
    "            rel.append((a, b, c)) \n",
    "            \n",
    "rel"
   ]
  },
  {
   "cell_type": "markdown",
   "metadata": {},
   "source": [
    "# odpytywania"
   ]
  },
  {
   "cell_type": "code",
   "execution_count": 11,
   "metadata": {},
   "outputs": [],
   "source": [
    "from sparql_resource_property_getter import get_resource, find_property"
   ]
  },
  {
   "cell_type": "code",
   "execution_count": 37,
   "metadata": {},
   "outputs": [
    {
     "data": {
      "text/plain": [
       "(('Knowledge Services', 'ORG'), ('Joe Bielawski', 'PERSON'), 'president')"
      ]
     },
     "execution_count": 37,
     "metadata": {},
     "output_type": "execute_result"
    }
   ],
   "source": []
  },
  {
   "cell_type": "code",
   "execution_count": 12,
   "metadata": {},
   "outputs": [
    {
     "name": "stdout",
     "output_type": "stream",
     "text": [
      "Dotstaff :  []\n",
      "Joe Bielawski :  []\n",
      "president :  []\n",
      "\n",
      "Knowledge Services :  []\n",
      "Joe Bielawski :  []\n",
      "president :  []\n",
      "\n"
     ]
    }
   ],
   "source": [
    "for a, b, r in rel:\n",
    "    print(a[0], ': ', get_resource(a[0]))\n",
    "    print(b[0], ': ', get_resource(b[0]))\n",
    "    print(r, ': ', get_resource(r))\n",
    "    print()"
   ]
  },
  {
   "cell_type": "code",
   "execution_count": 13,
   "metadata": {},
   "outputs": [],
   "source": [
    "from SPARQLWrapper import SPARQLWrapper, JSON\n",
    "\n",
    "sparql = SPARQLWrapper(\"http://dbpedia.org/sparql\")"
   ]
  },
  {
   "cell_type": "markdown",
   "metadata": {},
   "source": [
    "# zwracanie"
   ]
  },
  {
   "cell_type": "code",
   "execution_count": 26,
   "metadata": {},
   "outputs": [
    {
     "data": {
      "text/plain": [
       "['<https://www.indystar.com/story/news/local/hamilton-county/2017/06/06/indianapolis-company-moving-headquarters-fishers-adding-400-jobs/373808001/#char=0,150>',\n",
       " '        a               nif:Context , nif:String , nif:RFC5147String ;',\n",
       " '        nif:beginIndex  \"0\"^^xsd:nonNegativeInteger ;',\n",
       " '        nif:endIndex    \"150\"^^xsd:nonNegativeInteger ;',\n",
       " '        nif:isString    \"Knowledge Services and Dotstaff is incredibly happy to be a part of this wonderful community, said Joe Bielawski, the president of Knowledge Services.\" .']"
      ]
     },
     "execution_count": 26,
     "metadata": {},
     "output_type": "execute_result"
    }
   ],
   "source": [
    "to = sentences[sent].split('\\n')\n",
    "to"
   ]
  },
  {
   "cell_type": "code",
   "execution_count": 62,
   "metadata": {},
   "outputs": [
    {
     "name": "stdout",
     "output_type": "stream",
     "text": [
      "<https://www.indystar.com/story/news/local/hamilton-county/2017/06/06/indianapolis-company-moving-headquarters-fishers-adding-400-jobs/373808001/#char=0,18> ;\n",
      "a nif:Phrase , nif:String , nif:RFC5147String ;\n",
      "nif:anchorOf  \"Knowledge Services\"^^xsd:string ;\n",
      "nif:beginIndex  \"0\"^^xsd:nonNegativeInteger ;\n",
      "nif:endIndex  \"18\"^^xsd:nonNegativeInteger ;\n",
      "<https://www.indystar.com/story/news/local/hamilton-county/2017/06/06/indianapolis-company-moving-headquarters-fishers-adding-400-jobs/373808001/#char=0,150> ;\n",
      "http://aksw.org/notInWiki/Knowledge_Services .\n"
     ]
    }
   ],
   "source": [
    "word = rel[0][0][0]\n",
    "start_index = sent.find(word)\n",
    "end_index = start_index+len(word)\n",
    "\n",
    "word_ns = word.replace(' ', '_')\n",
    "\n",
    "print(to[0].split('#')[0]+f'#char={start_index},{end_index}> ;')\n",
    "print(\" \".join(to[1].split()).replace('nif:Context', 'nif:Phrase'))\n",
    "print(f'nif:anchorOf  \"{word}\"^^xsd:string ;')\n",
    "print(f'nif:beginIndex  \"{start_index}\"^^xsd:nonNegativeInteger ;')\n",
    "print(f'nif:endIndex  \"{end_index}\"^^xsd:nonNegativeInteger ;')\n",
    "print(to[0] + ' ;')\n",
    "if len(get_resource(word_ns)) > 0:\n",
    "    print(f'itsrdf:taIdentRef  dbr:{word_ns} .')\n",
    "else:\n",
    "    print(f'http://aksw.org/notInWiki/{word_ns} .')"
   ]
  },
  {
   "cell_type": "code",
   "execution_count": 63,
   "metadata": {},
   "outputs": [
    {
     "name": "stdout",
     "output_type": "stream",
     "text": [
      "<https://www.indystar.com/story/news/local/hamilton-county/2017/06/06/indianapolis-company-moving-headquarters-fishers-adding-400-jobs/373808001/#char=99,112> ;\n",
      "a nif:Phrase , nif:String , nif:RFC5147String ;\n",
      "nif:anchorOf  \"Joe Bielawski\"^^xsd:string ;\n",
      "nif:beginIndex  \"99\"^^xsd:nonNegativeInteger ;\n",
      "nif:endIndex  \"112\"^^xsd:nonNegativeInteger ;\n",
      "<https://www.indystar.com/story/news/local/hamilton-county/2017/06/06/indianapolis-company-moving-headquarters-fishers-adding-400-jobs/373808001/#char=0,150> ;\n",
      "http://aksw.org/notInWiki/Joe_Bielawski .\n"
     ]
    }
   ],
   "source": [
    "word = rel[0][1][0]\n",
    "start_index = sent.find(word)\n",
    "end_index = start_index+len(word)\n",
    "\n",
    "word_ns = word.replace(' ', '_')\n",
    "\n",
    "print(to[0].split('#')[0]+f'#char={start_index},{end_index}> ;')\n",
    "print(\" \".join(to[1].split()).replace('nif:Context', 'nif:Phrase'))\n",
    "print(f'nif:anchorOf  \"{word}\"^^xsd:string ;')\n",
    "print(f'nif:beginIndex  \"{start_index}\"^^xsd:nonNegativeInteger ;')\n",
    "print(f'nif:endIndex  \"{end_index}\"^^xsd:nonNegativeInteger ;')\n",
    "print(to[0] + ' ;')\n",
    "if len(get_resource(word_ns)) > 0:\n",
    "    print(f'itsrdf:taIdentRef  dbr:{word_ns} .')\n",
    "else:\n",
    "    print(f'http://aksw.org/notInWiki/{word_ns} .')"
   ]
  },
  {
   "cell_type": "code",
   "execution_count": 17,
   "metadata": {},
   "outputs": [
    {
     "data": {
      "text/plain": [
       "'\\n<http://www.ontologydesignpatterns.org/data/oke-challenge-2018/task-3/sentence-1#char=0,22>\\n  a  nif:RFC5147String , nif:String , nif:Phrase ;\\n  nif:anchorOf  \"Conor McGregor\\'s\"^^xsd:string ;\\n  nif:beginIndex  \"0\"^^xsd:nonNegativeInteger ;\\n  nif:endIndex  \"22\"^^xsd:nonNegativeInteger ;\\n  nif:referenceContext  <http://www.ontologydesignpatterns.org/data/oke-challenge-2018/task-3/sentence-1#char=0,78> ;\\n  itsrdf:taIdentRef  dbr:Conor_McGregor .\\n  \\n<http://www.ontologydesignpatterns.org/data/oke-challenge-2018/task-3/sentence-1#char=35,48>\\n  a  nif:RFC5147String , nif:String , nif:Phrase ;\\n  nif:anchorOf  \"John Kavanagh\"^^xsd:string ;\\n  nif:beginIndex  \"35\"^^xsd:nonNegativeInteger ;\\n  nif:endIndex  \"48\"^^xsd:nonNegativeInteger ;\\n  nif:referenceContext  <http://www.ontologydesignpatterns.org/data/oke-challenge-2018/task-3/sentence-1#char=0,78> ;\\n  itsrdf:taIdentRef  aksw:John_Kavanagh . \\n\\n[]\\n  a  rdf:Statement , oa:Annotation ;\\n  rdf:object  dbr:Conor_McGregor ;\\n  rdf:predicate  dbo:trainer ;\\n  rdf:subject  aksw:John_Kavanagh ;\\n  oa:hasTarget [\\n    a oa:SpecificResource;\\n    oa:hasSource <http://www.ontologydesignpatterns.org/data/oke-challenge-2018/task-3/sentence-1#char=0,78> ] .\\n'"
      ]
     },
     "execution_count": 17,
     "metadata": {},
     "output_type": "execute_result"
    }
   ],
   "source": [
    "[]\n",
    "  a  rdf:Statement , oa:Annotation ;\n",
    "  rdf:object  dbr:Conor_McGregor ;\n",
    "  rdf:predicate  dbo:trainer ;\n",
    "  rdf:subject  aksw:John_Kavanagh ;\n",
    "  oa:hasTarget [\n",
    "    a oa:SpecificResource;\n",
    "    oa:hasSource <http://www.ontologydesignpatterns.org/data/oke-challenge-2018/task-3/sentence-1#char=0,78> ] .\n",
    "\"\"\""
   ]
  },
  {
   "cell_type": "code",
   "execution_count": null,
   "metadata": {},
   "outputs": [],
   "source": []
  }
 ],
 "metadata": {
  "kernelspec": {
   "display_name": "Python 3",
   "language": "python",
   "name": "python3"
  },
  "language_info": {
   "codemirror_mode": {
    "name": "ipython",
    "version": 3
   },
   "file_extension": ".py",
   "mimetype": "text/x-python",
   "name": "python",
   "nbconvert_exporter": "python",
   "pygments_lexer": "ipython3",
   "version": "3.6.8"
  }
 },
 "nbformat": 4,
 "nbformat_minor": 2
}
