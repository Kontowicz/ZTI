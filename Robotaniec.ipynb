{
 "cells": [
  {
   "cell_type": "markdown",
   "metadata": {},
   "source": [
    "# wczytywanie"
   ]
  },
  {
   "cell_type": "code",
   "execution_count": 1,
   "metadata": {},
   "outputs": [],
   "source": [
    "from parse import parse_task_1_2"
   ]
  },
  {
   "cell_type": "code",
   "execution_count": 2,
   "metadata": {},
   "outputs": [
    {
     "name": "stdout",
     "output_type": "stream",
     "text": [
      "Knowledge Services and Dotstaff is incredibly happy to be a part of this wonderful community, said Joe Bielawski, the president of Knowledge Services.\n"
     ]
    }
   ],
   "source": [
    "sent, sentences = parse_task_1_2('training/file_39.ttl', only_sentences=True)\n",
    "print(sent)"
   ]
  },
  {
   "cell_type": "markdown",
   "metadata": {},
   "source": [
    "# parsowanie"
   ]
  },
  {
   "cell_type": "code",
   "execution_count": 4,
   "metadata": {},
   "outputs": [],
   "source": [
    "from entities_recognition_tester import process_using_spacy\n",
    "import en_core_web_sm"
   ]
  },
  {
   "cell_type": "code",
   "execution_count": 5,
   "metadata": {},
   "outputs": [
    {
     "name": "stdout",
     "output_type": "stream",
     "text": [
      "[('Dotstaff', 'ORG'), ('Joe Bielawski', 'PERSON'), ('Knowledge Services', 'ORG')]\n"
     ]
    }
   ],
   "source": [
    "pary = process_using_spacy(sent, en_core = en_core_web_sm.load(), format_result=True)\n",
    "print(pary)"
   ]
  },
  {
   "cell_type": "code",
   "execution_count": 47,
   "metadata": {},
   "outputs": [],
   "source": [
    "knowladge = [\n",
    "    # coś, coś, relacja, słowa kluczowe do rozpoznania relacji\n",
    "    ['ORG', 'ORG', 'affiliation', ['relate']],\n",
    "    ['Person', 'EducationalInstitution',  'almaMater', ['study']],\n",
    "    ['Band', 'Person', 'bandMember', ['play', 'music']],\n",
    "    ['Person', 'Place', 'birth', ['birth', 'born']],\n",
    "    ['Person', 'ORG', 'ceo', ['president', 'boss', 'head', 'chief']],\n",
    "    ['Person', 'Person', 'child', ['child']],\n",
    "    ['Athlete', 'SportsTeam', 'club', ['train', 'play']],\n",
    "    ['ORG', 'COUNTY', 'country', ['locate']],\n",
    "    ['Person', 'COUNTY', 'country', ['from']],\n",
    "    ['Place', 'COUNTY', 'country', ['in']],\n",
    "    ['Person', 'Place',  'death', ['death']],\n",
    "    ['ATHLETE', 'SPOERTSTEAM', 'debutTeam', ['first']],\n",
    "    ['PopulatedPlace', 'PopulatedPlace', 'department', ['from', 'in']],\n",
    "    ['Place', 'PopulatedPlace', 'district', ['in']],\n",
    "    ['Scientist', 'Person', 'doctoralAdvisor', ['medical']],\n",
    "    ['Scientist', 'Person', 'doctoralStudent', ['doctoral', 'doctoral']],\n",
    "    ['Person', 'ORG', 'employer', ['work', 'worker']],\n",
    "    ['Band', 'Person', 'formerBandMember', []],\n",
    "    ['Athlete', 'SportsTeam', 'formerTeam', ['played']],\n",
    "    ['ORG', 'City', 'foundationPlace', ['in', 'locate']],\n",
    "    ['ORG', 'PopulatedPlace', 'headquarter', ['in']],\n",
    "    ['ORG', 'Settlement', 'hometown', ['from']],\n",
    "    ['Person', 'Settlement', 'hometown', ['from', 'live']],  \n",
    "    ['PopulatedPlace', 'Person', 'leaderName', []],\n",
    "    ['Place', 'Place', 'locatedInArea', ['from', 'in']],\n",
    "    ['Person', 'Place', 'location', ['at']],\n",
    "    ['ORG', 'Place', 'location', ['at']],\n",
    "    ['Place', 'Place', 'location', ['at']],\n",
    "    ['Person', 'Country', 'nationality', ['from']],  \n",
    "    ['Person', 'Person', 'parent', ['child']],  \n",
    "    ['ORG', 'Person', 'president', ['president']],\n",
    "    ['Person', 'ORG', 'president', ['president']],\n",
    "    ['Person', 'Person', 'relative', ['relate']],\n",
    "    ['Person', 'Person', 'spouse', ['wife', 'husband']], \n",
    "    ['Company', 'Company', 'subsidiary', []],\n",
    "    ['ArchitecturalStructure', 'ORG', 'tenant', ['rent']],\n",
    "    ['Athlete', 'Person', 'trainer', ['train']]\n",
    "]\n",
    "\n"
   ]
  },
  {
   "cell_type": "code",
   "execution_count": 54,
   "metadata": {},
   "outputs": [
    {
     "name": "stdout",
     "output_type": "stream",
     "text": [
      "ceo\n",
      "['PERSON', '', 'the', 'president', 'of', 'ORG', '']\n"
     ]
    }
   ],
   "source": [
    "import copy\n",
    "zdanie = copy.copy(sent)\n",
    "\n",
    "for item in pary:\n",
    "    zdanie = zdanie.replace(item[0], item[1])\n",
    "\n",
    "def in_first(word):\n",
    "    to_return = []\n",
    "    for item in knowladge:\n",
    "        if word.capitalize() == item[0].capitalize():\n",
    "            to_return.append(item)\n",
    "    return to_return\n",
    "\n",
    "zdanie = zdanie.replace(',', ' ')\n",
    "zdanie = zdanie.replace('.', ' ')\n",
    "zdanie = zdanie.replace(';', ' ')\n",
    "zdanie = zdanie.split(' ')\n",
    "for i in range(0, len(zdanie)):\n",
    "    tmp = in_first(zdanie[i])\n",
    "    if tmp != []:\n",
    "        string = zdanie[i+1::]\n",
    "        for item in tmp:\n",
    "            if item[1] in string:\n",
    "                pos = string.index(item[1])\n",
    "                string = string[0:pos]\n",
    "                #print(string)\n",
    "                for kw in item[3]:\n",
    "                    if kw in string:\n",
    "                        print(item[2]) #nazwa relacji\n",
    "                        print(zdanie[i:])\n",
    "            "
   ]
  },
  {
   "cell_type": "code",
   "execution_count": 32,
   "metadata": {},
   "outputs": [
    {
     "name": "stdout",
     "output_type": "stream",
     "text": [
      "[]\n",
      "[]\n",
      "[]\n"
     ]
    },
    {
     "data": {
      "text/plain": [
       "[None, None, None]"
      ]
     },
     "execution_count": 32,
     "metadata": {},
     "output_type": "execute_result"
    }
   ],
   "source": [
    "from sparql_resource_property_getter import get_resource\n",
    "\n",
    "[print(get_resource(think)) for think, label in pary]"
   ]
  },
  {
   "cell_type": "markdown",
   "metadata": {},
   "source": [
    "# relacja"
   ]
  },
  {
   "cell_type": "code",
   "execution_count": 5,
   "metadata": {},
   "outputs": [],
   "source": [
    "from word_word_relation import get_relation"
   ]
  },
  {
   "cell_type": "code",
   "execution_count": 25,
   "metadata": {},
   "outputs": [
    {
     "name": "stdout",
     "output_type": "stream",
     "text": [
      "(('Dotstaff', 'ORG'), ('Joe Bielawski', 'PERSON'), 'president')\n",
      "(('Knowledge Services', 'ORG'), ('Joe Bielawski', 'PERSON'), 'president')\n"
     ]
    },
    {
     "data": {
      "text/plain": [
       "[None, None]"
      ]
     },
     "execution_count": 25,
     "metadata": {},
     "output_type": "execute_result"
    }
   ],
   "source": [
    "rel = get_relation(pary, sent)\n",
    "[print(r) for r in rel]"
   ]
  },
  {
   "cell_type": "markdown",
   "metadata": {},
   "source": [
    "# odpytywania"
   ]
  },
  {
   "cell_type": "code",
   "execution_count": 7,
   "metadata": {},
   "outputs": [],
   "source": [
    "from sparql_resource_property_getter import get_info"
   ]
  },
  {
   "cell_type": "code",
   "execution_count": 8,
   "metadata": {},
   "outputs": [
    {
     "name": "stdout",
     "output_type": "stream",
     "text": [
      "[False, False]\n"
     ]
    }
   ],
   "source": [
    "in_db = get_info(rel[1])\n",
    "print(in_db)"
   ]
  },
  {
   "cell_type": "markdown",
   "metadata": {},
   "source": [
    "# zwracanie"
   ]
  },
  {
   "cell_type": "code",
   "execution_count": 9,
   "metadata": {},
   "outputs": [],
   "source": [
    "from formatuj import formatuj"
   ]
  },
  {
   "cell_type": "code",
   "execution_count": 10,
   "metadata": {
    "scrolled": false
   },
   "outputs": [
    {
     "name": "stdout",
     "output_type": "stream",
     "text": [
      "<https://www.indystar.com/story/news/local/hamilton-county/2017/06/06/indianapolis-company-moving-headquarters-fishers-adding-400-jobs/373808001/#char=0,18> ;\n",
      "a  nif:RFC5147String , nif:String , nif:Phrase ;\n",
      "nif:anchorOf  \"Knowledge Services\"^^xsd:string ;\n",
      "nif:beginIndex  \"0\"^^xsd:nonNegativeInteger ;\n",
      "nif:endIndex  \"18\"^^xsd:nonNegativeInteger ;\n",
      "nif:referenceContext <https://www.indystar.com/story/news/local/hamilton-county/2017/06/06/indianapolis-company-moving-headquarters-fishers-adding-400-jobs/373808001/#char=0,150> ;\n",
      "itsrdf:taIdentRef http://aksw.org/notInWiki/Knowledge_Services .\n",
      "\n",
      "<https://www.indystar.com/story/news/local/hamilton-county/2017/06/06/indianapolis-company-moving-headquarters-fishers-adding-400-jobs/373808001/#char=99,112> ;\n",
      "a  nif:RFC5147String , nif:String , nif:Phrase ;\n",
      "nif:anchorOf  \"Joe Bielawski\"^^xsd:string ;\n",
      "nif:beginIndex  \"99\"^^xsd:nonNegativeInteger ;\n",
      "nif:endIndex  \"112\"^^xsd:nonNegativeInteger ;\n",
      "nif:referenceContext <https://www.indystar.com/story/news/local/hamilton-county/2017/06/06/indianapolis-company-moving-headquarters-fishers-adding-400-jobs/373808001/#char=0,150> ;\n",
      "itsrdf:taIdentRef http://aksw.org/notInWiki/Joe_Bielawski .\n",
      "\n",
      "[]\n",
      "a  rdf:Statement , oa:Annotation ;\n",
      "rdf:object  dbr:Joe_Bielawski ;\n",
      "rdf:predicate  dbo:president ;\n",
      "rdf:subject  aksw:Knowledge_Services ;\n",
      "oa:hasTarget [\n",
      "a oa:SpecificResource;\n",
      "oa:hasSource <https://www.indystar.com/story/news/local/hamilton-county/2017/06/06/indianapolis-company-moving-headquarters-fishers-adding-400-jobs/373808001/#char=0,150> ] .\n"
     ]
    }
   ],
   "source": [
    "formatuj(rel = rel[1], \n",
    "         in_db = in_db, \n",
    "         sent = sent, \n",
    "         meta = sentences[sent])"
   ]
  },
  {
   "cell_type": "code",
   "execution_count": null,
   "metadata": {},
   "outputs": [],
   "source": []
  }
 ],
 "metadata": {
  "kernelspec": {
   "display_name": "Python 3",
   "language": "python",
   "name": "python3"
  },
  "language_info": {
   "codemirror_mode": {
    "name": "ipython",
    "version": 3
   },
   "file_extension": ".py",
   "mimetype": "text/x-python",
   "name": "python",
   "nbconvert_exporter": "python",
   "pygments_lexer": "ipython3",
   "version": "3.7.4"
  }
 },
 "nbformat": 4,
 "nbformat_minor": 2
}
