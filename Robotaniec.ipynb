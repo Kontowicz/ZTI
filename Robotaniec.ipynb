{
 "cells": [
  {
   "cell_type": "markdown",
   "metadata": {},
   "source": [
    "# Kontuś"
   ]
  },
  {
   "cell_type": "code",
   "execution_count": 1,
   "metadata": {},
   "outputs": [],
   "source": [
    "from parse import parse_task_1_2"
   ]
  },
  {
   "cell_type": "code",
   "execution_count": 2,
   "metadata": {},
   "outputs": [],
   "source": [
    "meta, sentences = parse_task_1_2('training/file_39.ttl')"
   ]
  },
  {
   "cell_type": "code",
   "execution_count": 3,
   "metadata": {},
   "outputs": [],
   "source": [
    "sent = list(sentences.keys())[0]"
   ]
  },
  {
   "cell_type": "code",
   "execution_count": 4,
   "metadata": {},
   "outputs": [
    {
     "data": {
      "text/plain": [
       "'Knowledge Services and Dotstaff is incredibly happy to be a part of this wonderful community, said Joe Bielawski, the president of Knowledge Services.'"
      ]
     },
     "execution_count": 4,
     "metadata": {},
     "output_type": "execute_result"
    }
   ],
   "source": [
    "sent"
   ]
  },
  {
   "cell_type": "markdown",
   "metadata": {},
   "source": [
    "# Cezik i Rzegi"
   ]
  },
  {
   "cell_type": "code",
   "execution_count": 5,
   "metadata": {},
   "outputs": [],
   "source": [
    "from entities_recognition_tester import process_using_spacy\n",
    "import en_core_web_sm"
   ]
  },
  {
   "cell_type": "code",
   "execution_count": 6,
   "metadata": {},
   "outputs": [
    {
     "data": {
      "text/plain": [
       "[('Dotstaff', 'ORG'),\n",
       " ('Joe Bielawski', 'PERSON'),\n",
       " ('Knowledge Services', 'ORG')]"
      ]
     },
     "execution_count": 6,
     "metadata": {},
     "output_type": "execute_result"
    }
   ],
   "source": [
    "pary = process_using_spacy(sent, en_core = en_core_web_sm.load(), format_result=True)\n",
    "pary"
   ]
  },
  {
   "cell_type": "code",
   "execution_count": 7,
   "metadata": {},
   "outputs": [
    {
     "data": {
      "text/plain": [
       "[(('Dotstaff', 'ORG'), ('Joe Bielawski', 'PERSON')),\n",
       " (('Dotstaff', 'ORG'), ('Knowledge Services', 'ORG')),\n",
       " (('Joe Bielawski', 'PERSON'), ('Dotstaff', 'ORG')),\n",
       " (('Joe Bielawski', 'PERSON'), ('Knowledge Services', 'ORG')),\n",
       " (('Knowledge Services', 'ORG'), ('Dotstaff', 'ORG')),\n",
       " (('Knowledge Services', 'ORG'), ('Joe Bielawski', 'PERSON'))]"
      ]
     },
     "execution_count": 7,
     "metadata": {},
     "output_type": "execute_result"
    }
   ],
   "source": [
    "import itertools\n",
    "perm = list(itertools.permutations(pary, 2))\n",
    "perm"
   ]
  },
  {
   "cell_type": "code",
   "execution_count": 8,
   "metadata": {},
   "outputs": [],
   "source": [
    "big_dict = {\n",
    "     ('Organisation', 'Organisation'): ['affiliation'],\n",
    "     ('Person', 'EducationalInstitution'): ['almaMater'],\n",
    "     ('Band', 'Person'): ['formerBandMember', 'bandMember'],\n",
    "     ('Person', 'Place'): ['deathPlace', 'birthPlace'],\n",
    "     ('Organisation', 'Person'): ['president', 'ceo'],\n",
    "     ('Person', 'Person'): ['spouse', 'relative', 'parent', 'child'],\n",
    "     ('Athlete', 'SportsTeam'): ['formerTeam', 'debutTeam', 'club'],\n",
    "     ('Organisation', 'Country'): ['country'],\n",
    "     ('Person', 'Country'): ['country'],\n",
    "     ('Place', 'Country'): ['country'],\n",
    "     ('PopulatedPlace', 'PopulatedPlace'): ['department'],\n",
    "     ('Place', 'PopulatedPlace'): ['district'],\n",
    "     ('Scientist', 'Person'): ['doctoralStudent', 'doctoralAdvisor'],\n",
    "     ('Person', 'Organisation'): ['employer'],\n",
    "     ('Organisation', 'City'): ['foundationPlace'],\n",
    "     ('Organisation', 'PopulatedPlace'): ['headquarter'],\n",
    "     ('Organisation', 'Settlement'): ['hometown'],\n",
    "     ('Person', 'Settlement'): ['hometown'],\n",
    "     ('PopulatedPlace', 'Person'): ['leaderName'],\n",
    "     ('Place', 'Place'): ['locatedInArea'],\n",
    "     ('Organisation_Person_Place', 'Place'): ['location'],\n",
    "     ('Person', 'Country'): ['nationality'],\n",
    "     ('Company', 'Company'): ['subsidiary'],\n",
    "     ('ArchitecturalStructure', 'Organisation'): ['tenant'],\n",
    "     ('Athlete', 'Person'): ['trainer']\n",
    "}"
   ]
  },
  {
   "cell_type": "code",
   "execution_count": 9,
   "metadata": {},
   "outputs": [],
   "source": [
    "maps = {\n",
    "    'ORG': 'Organisation',\n",
    "    'PERSON': 'Person'\n",
    "}"
   ]
  },
  {
   "cell_type": "code",
   "execution_count": 10,
   "metadata": {},
   "outputs": [
    {
     "name": "stdout",
     "output_type": "stream",
     "text": [
      "['president', 'ceo']\n",
      "['affiliation']\n",
      "['employer']\n",
      "['employer']\n",
      "['affiliation']\n",
      "['president', 'ceo']\n"
     ]
    }
   ],
   "source": [
    "for a, b in perm:\n",
    "    print(big_dict[(maps[a[1]], maps[b[1]])])"
   ]
  },
  {
   "cell_type": "markdown",
   "metadata": {},
   "source": [
    "# Marian i Ptok"
   ]
  },
  {
   "cell_type": "code",
   "execution_count": 11,
   "metadata": {},
   "outputs": [],
   "source": [
    "from sparql_resource_property_getter import get_resource, find_property"
   ]
  },
  {
   "cell_type": "code",
   "execution_count": 18,
   "metadata": {},
   "outputs": [
    {
     "name": "stdout",
     "output_type": "stream",
     "text": [
      "[]\n",
      "[]\n",
      "[]\n"
     ]
    }
   ],
   "source": [
    "for thing, typ in pary:\n",
    "    print(get_resource(thing))"
   ]
  },
  {
   "cell_type": "code",
   "execution_count": null,
   "metadata": {},
   "outputs": [],
   "source": []
  }
 ],
 "metadata": {
  "kernelspec": {
   "display_name": "Python 3",
   "language": "python",
   "name": "python3"
  },
  "language_info": {
   "codemirror_mode": {
    "name": "ipython",
    "version": 3
   },
   "file_extension": ".py",
   "mimetype": "text/x-python",
   "name": "python",
   "nbconvert_exporter": "python",
   "pygments_lexer": "ipython3",
   "version": "3.6.8"
  }
 },
 "nbformat": 4,
 "nbformat_minor": 2
}
